{
  "cells": [
    {
      "cell_type": "markdown",
      "metadata": {
        "id": "BjJ-pZiW6zV2"
      },
      "source": [
        "# **FACIAL EXPRESSION DETECTION**\n",
        "\n",
        "---\n",
        "\n"
      ]
    },
    {
      "cell_type": "markdown",
      "source": [
        "Facial expression detection is a significant application of computer vision, involving the classification of facial expressions into predefined categories. This project focuses on creating a Convolutional Neural Network (CNN) to classify facial expressions into three classes: Happy, Sad, and Surprise. The project includes building the CNN model, training it with a dataset of facial images, and creating a user interface (UI) using Streamlit to facilitate interaction with the model."
      ],
      "metadata": {
        "id": "bYi1fHK1m99t"
      }
    },
    {
      "cell_type": "code",
      "execution_count": null,
      "metadata": {
        "id": "72jPPI8rD5mo"
      },
      "outputs": [],
      "source": [
        "from skimage.io import imread\n",
        "from skimage.transform import resize\n",
        "import os\n",
        "from keras.models import Sequential\n",
        "from keras.layers import Dense, Conv2D, MaxPool2D, Flatten,Dropout\n",
        "import warnings\n",
        "warnings.filterwarnings('ignore')"
      ]
    },
    {
      "cell_type": "code",
      "execution_count": null,
      "metadata": {
        "id": "WQXkF65WEaFF"
      },
      "outputs": [],
      "source": [
        "train=os.listdir('/content/drive/MyDrive/CNN Image Dataset/Face Expressions - Copy/train')"
      ]
    },
    {
      "cell_type": "code",
      "execution_count": null,
      "metadata": {
        "id": "P6HrneOREhdG"
      },
      "outputs": [],
      "source": [
        "test=os.listdir('/content/drive/MyDrive/CNN Image Dataset/Face Expressions - Copy/test')"
      ]
    },
    {
      "cell_type": "code",
      "execution_count": null,
      "metadata": {
        "colab": {
          "base_uri": "https://localhost:8080/"
        },
        "id": "xyLp7kVeEmpG",
        "outputId": "0f94260c-347d-4a2a-dd12-097748b3e0c2"
      },
      "outputs": [
        {
          "output_type": "stream",
          "name": "stdout",
          "text": [
            "Loaded... surprise\n",
            "Loaded... happy\n",
            "Loaded... sad\n"
          ]
        }
      ],
      "source": [
        "X_train=[]\n",
        "y_train=[]\n",
        "Categories = ['surprise', 'happy', 'sad']\n",
        "datapath='/content/drive/MyDrive/CNN Image Dataset/Face Expressions - Copy/train'\n",
        "for dir in Categories:\n",
        "  dirpath=os.path.join(datapath,dir)\n",
        "  images=os.listdir(dirpath)\n",
        "  for img in images:\n",
        "    imagepath=os.path.join(dirpath,img)\n",
        "    image_arr=imread(imagepath)\n",
        "    image_resize=resize(image_arr,(150,150,1))\n",
        "    X_train.append(image_resize)\n",
        "    y_train.append(Categories.index(dir))\n",
        "  print(\"Loaded...\",dir)"
      ]
    },
    {
      "cell_type": "code",
      "execution_count": null,
      "metadata": {
        "colab": {
          "base_uri": "https://localhost:8080/"
        },
        "id": "R5xHDxQqF7dE",
        "outputId": "cc159da6-dcac-46a5-e512-e2aaee2f8f3f"
      },
      "outputs": [
        {
          "output_type": "stream",
          "name": "stdout",
          "text": [
            "Loaded... surprise\n",
            "Loaded... happy\n",
            "Loaded... sad\n"
          ]
        }
      ],
      "source": [
        "X_test=[]\n",
        "y_test=[]\n",
        "Categories = ['surprise', 'happy', 'sad']\n",
        "datapath='/content/drive/MyDrive/CNN Image Dataset/Face Expressions - Copy/test'\n",
        "for dir in Categories:\n",
        "  dirpath=os.path.join(datapath,dir)\n",
        "  images=os.listdir(dirpath)\n",
        "  for img in images:\n",
        "    imagepath=os.path.join(dirpath,img)\n",
        "    image_arr=imread(imagepath)\n",
        "    image_resize=resize(image_arr,(150,150,1))\n",
        "    X_test.append(image_resize)\n",
        "    y_test.append(Categories.index(dir))\n",
        "  print(\"Loaded...\",dir)"
      ]
    },
    {
      "cell_type": "code",
      "execution_count": null,
      "metadata": {
        "colab": {
          "base_uri": "https://localhost:8080/"
        },
        "id": "uAi0FL2gHRdv",
        "outputId": "47211f21-ceea-49a4-b869-7c789f748026"
      },
      "outputs": [
        {
          "output_type": "execute_result",
          "data": {
            "text/plain": [
              "(3072, 3072)"
            ]
          },
          "metadata": {},
          "execution_count": 6
        }
      ],
      "source": [
        "len(X_train),len(y_train)"
      ]
    },
    {
      "cell_type": "code",
      "execution_count": null,
      "metadata": {
        "colab": {
          "base_uri": "https://localhost:8080/"
        },
        "id": "X6jfg268HZ7o",
        "outputId": "ee87ecbc-07dc-478a-91bb-ad2f841887b5"
      },
      "outputs": [
        {
          "output_type": "execute_result",
          "data": {
            "text/plain": [
              "(617, 617)"
            ]
          },
          "metadata": {},
          "execution_count": 7
        }
      ],
      "source": [
        "len(X_test),len(y_test)"
      ]
    },
    {
      "cell_type": "code",
      "execution_count": null,
      "metadata": {
        "id": "bbwC6HfsHd5c"
      },
      "outputs": [],
      "source": [
        "import numpy as np\n",
        "X_train = np.array(X_train)\n",
        "X_test = np.array(X_test)\n",
        "y_train = np.array(y_train)\n",
        "y_test = np.array(y_test)"
      ]
    },
    {
      "cell_type": "code",
      "execution_count": null,
      "metadata": {
        "colab": {
          "base_uri": "https://localhost:8080/"
        },
        "id": "vwBBa39vHyEA",
        "outputId": "4d8c21e2-f3d2-4f7a-800d-248fbe95aabf"
      },
      "outputs": [
        {
          "output_type": "execute_result",
          "data": {
            "text/plain": [
              "(3072, 150, 150, 1)"
            ]
          },
          "metadata": {},
          "execution_count": 9
        }
      ],
      "source": [
        "X_train.shape"
      ]
    },
    {
      "cell_type": "code",
      "execution_count": null,
      "metadata": {
        "colab": {
          "base_uri": "https://localhost:8080/"
        },
        "id": "qj5pLszlH0b9",
        "outputId": "33a24c8b-2d65-4bd8-becf-577dd293c7cd"
      },
      "outputs": [
        {
          "output_type": "execute_result",
          "data": {
            "text/plain": [
              "(617, 150, 150, 1)"
            ]
          },
          "metadata": {},
          "execution_count": 10
        }
      ],
      "source": [
        "X_test.shape"
      ]
    },
    {
      "cell_type": "code",
      "execution_count": null,
      "metadata": {
        "id": "YSz0wN0CH3Aq"
      },
      "outputs": [],
      "source": [
        "model = Sequential()\n",
        "model.add(Conv2D(32,(3,3),input_shape=(150,150,1),activation='relu'))\n",
        "model.add(MaxPool2D(2,2))\n",
        "\n",
        "model.add(Conv2D(64,(3,3),activation='relu'))\n",
        "model.add(MaxPool2D(2,2))\n",
        "\n",
        "model.add(Conv2D(128,(3,3),activation='relu'))\n",
        "model.add(MaxPool2D(2,2))\n",
        "\n",
        "model.add(Flatten())\n",
        "model.add(Dropout(0.25))\n",
        "\n",
        "model.add(Dense(100,activation = 'relu'))\n",
        "model.add(Dense(50,activation='relu'))\n",
        "\n",
        "model.add(Dense(3,activation='softmax'))"
      ]
    },
    {
      "cell_type": "code",
      "execution_count": null,
      "metadata": {
        "id": "BCOWtu5eIVOb"
      },
      "outputs": [],
      "source": [
        "model.compile(optimizer='adam',loss='sparse_categorical_crossentropy',metrics=['accuracy'])"
      ]
    },
    {
      "cell_type": "code",
      "execution_count": null,
      "metadata": {
        "colab": {
          "base_uri": "https://localhost:8080/"
        },
        "id": "tz6mM5mOIhs1",
        "outputId": "77ad9a42-6713-4b17-883c-620dfe3acb38"
      },
      "outputs": [
        {
          "output_type": "stream",
          "name": "stdout",
          "text": [
            "Epoch 1/20\n",
            "\u001b[1m192/192\u001b[0m \u001b[32m━━━━━━━━━━━━━━━━━━━━\u001b[0m\u001b[37m\u001b[0m \u001b[1m16s\u001b[0m 11ms/step - accuracy: 0.4666 - loss: 0.9932\n",
            "Epoch 2/20\n",
            "\u001b[1m192/192\u001b[0m \u001b[32m━━━━━━━━━━━━━━━━━━━━\u001b[0m\u001b[37m\u001b[0m \u001b[1m2s\u001b[0m 11ms/step - accuracy: 0.7887 - loss: 0.5041\n",
            "Epoch 3/20\n",
            "\u001b[1m192/192\u001b[0m \u001b[32m━━━━━━━━━━━━━━━━━━━━\u001b[0m\u001b[37m\u001b[0m \u001b[1m2s\u001b[0m 11ms/step - accuracy: 0.8561 - loss: 0.3758\n",
            "Epoch 4/20\n",
            "\u001b[1m192/192\u001b[0m \u001b[32m━━━━━━━━━━━━━━━━━━━━\u001b[0m\u001b[37m\u001b[0m \u001b[1m3s\u001b[0m 12ms/step - accuracy: 0.9123 - loss: 0.2469\n",
            "Epoch 5/20\n",
            "\u001b[1m192/192\u001b[0m \u001b[32m━━━━━━━━━━━━━━━━━━━━\u001b[0m\u001b[37m\u001b[0m \u001b[1m2s\u001b[0m 11ms/step - accuracy: 0.9415 - loss: 0.1643\n",
            "Epoch 6/20\n",
            "\u001b[1m192/192\u001b[0m \u001b[32m━━━━━━━━━━━━━━━━━━━━\u001b[0m\u001b[37m\u001b[0m \u001b[1m3s\u001b[0m 11ms/step - accuracy: 0.9532 - loss: 0.1303\n",
            "Epoch 7/20\n",
            "\u001b[1m192/192\u001b[0m \u001b[32m━━━━━━━━━━━━━━━━━━━━\u001b[0m\u001b[37m\u001b[0m \u001b[1m3s\u001b[0m 11ms/step - accuracy: 0.9646 - loss: 0.1004\n",
            "Epoch 8/20\n",
            "\u001b[1m192/192\u001b[0m \u001b[32m━━━━━━━━━━━━━━━━━━━━\u001b[0m\u001b[37m\u001b[0m \u001b[1m3s\u001b[0m 11ms/step - accuracy: 0.9710 - loss: 0.0785\n",
            "Epoch 9/20\n",
            "\u001b[1m192/192\u001b[0m \u001b[32m━━━━━━━━━━━━━━━━━━━━\u001b[0m\u001b[37m\u001b[0m \u001b[1m3s\u001b[0m 12ms/step - accuracy: 0.9817 - loss: 0.0563\n",
            "Epoch 10/20\n",
            "\u001b[1m192/192\u001b[0m \u001b[32m━━━━━━━━━━━━━━━━━━━━\u001b[0m\u001b[37m\u001b[0m \u001b[1m2s\u001b[0m 12ms/step - accuracy: 0.9713 - loss: 0.0671\n",
            "Epoch 11/20\n",
            "\u001b[1m192/192\u001b[0m \u001b[32m━━━━━━━━━━━━━━━━━━━━\u001b[0m\u001b[37m\u001b[0m \u001b[1m2s\u001b[0m 11ms/step - accuracy: 0.9821 - loss: 0.0553\n",
            "Epoch 12/20\n",
            "\u001b[1m192/192\u001b[0m \u001b[32m━━━━━━━━━━━━━━━━━━━━\u001b[0m\u001b[37m\u001b[0m \u001b[1m2s\u001b[0m 11ms/step - accuracy: 0.9939 - loss: 0.0227\n",
            "Epoch 13/20\n",
            "\u001b[1m192/192\u001b[0m \u001b[32m━━━━━━━━━━━━━━━━━━━━\u001b[0m\u001b[37m\u001b[0m \u001b[1m3s\u001b[0m 11ms/step - accuracy: 0.9878 - loss: 0.0442\n",
            "Epoch 14/20\n",
            "\u001b[1m192/192\u001b[0m \u001b[32m━━━━━━━━━━━━━━━━━━━━\u001b[0m\u001b[37m\u001b[0m \u001b[1m2s\u001b[0m 11ms/step - accuracy: 0.9915 - loss: 0.0256\n",
            "Epoch 15/20\n",
            "\u001b[1m192/192\u001b[0m \u001b[32m━━━━━━━━━━━━━━━━━━━━\u001b[0m\u001b[37m\u001b[0m \u001b[1m3s\u001b[0m 12ms/step - accuracy: 0.9922 - loss: 0.0238\n",
            "Epoch 16/20\n",
            "\u001b[1m192/192\u001b[0m \u001b[32m━━━━━━━━━━━━━━━━━━━━\u001b[0m\u001b[37m\u001b[0m \u001b[1m2s\u001b[0m 11ms/step - accuracy: 0.9918 - loss: 0.0187\n",
            "Epoch 17/20\n",
            "\u001b[1m192/192\u001b[0m \u001b[32m━━━━━━━━━━━━━━━━━━━━\u001b[0m\u001b[37m\u001b[0m \u001b[1m2s\u001b[0m 11ms/step - accuracy: 0.9970 - loss: 0.0117\n",
            "Epoch 18/20\n",
            "\u001b[1m192/192\u001b[0m \u001b[32m━━━━━━━━━━━━━━━━━━━━\u001b[0m\u001b[37m\u001b[0m \u001b[1m2s\u001b[0m 11ms/step - accuracy: 0.9963 - loss: 0.0159\n",
            "Epoch 19/20\n",
            "\u001b[1m192/192\u001b[0m \u001b[32m━━━━━━━━━━━━━━━━━━━━\u001b[0m\u001b[37m\u001b[0m \u001b[1m2s\u001b[0m 11ms/step - accuracy: 0.9979 - loss: 0.0068\n",
            "Epoch 20/20\n",
            "\u001b[1m192/192\u001b[0m \u001b[32m━━━━━━━━━━━━━━━━━━━━\u001b[0m\u001b[37m\u001b[0m \u001b[1m2s\u001b[0m 11ms/step - accuracy: 0.9856 - loss: 0.0549\n"
          ]
        },
        {
          "output_type": "execute_result",
          "data": {
            "text/plain": [
              "<keras.src.callbacks.history.History at 0x7c2c84c69600>"
            ]
          },
          "metadata": {},
          "execution_count": 13
        }
      ],
      "source": [
        "model.fit(X_train,y_train,epochs=20,batch_size=16)"
      ]
    },
    {
      "cell_type": "code",
      "execution_count": null,
      "metadata": {
        "colab": {
          "base_uri": "https://localhost:8080/"
        },
        "id": "ic3fmNqvIrR4",
        "outputId": "ed76e7de-40e0-41e3-cd67-034415b84ff6"
      },
      "outputs": [
        {
          "output_type": "stream",
          "name": "stdout",
          "text": [
            "\u001b[1m20/20\u001b[0m \u001b[32m━━━━━━━━━━━━━━━━━━━━\u001b[0m\u001b[37m\u001b[0m \u001b[1m2s\u001b[0m 44ms/step - accuracy: 0.7400 - loss: 1.8651\n"
          ]
        },
        {
          "output_type": "execute_result",
          "data": {
            "text/plain": [
              "[1.886102318763733, 0.7390599846839905]"
            ]
          },
          "metadata": {},
          "execution_count": 14
        }
      ],
      "source": [
        "model.evaluate(X_test,y_test)"
      ]
    },
    {
      "cell_type": "code",
      "execution_count": null,
      "metadata": {
        "colab": {
          "base_uri": "https://localhost:8080/"
        },
        "id": "4-1T6TLF_2Dx",
        "outputId": "dfe5ea76-005d-4c51-ab84-971e13291a81"
      },
      "outputs": [
        {
          "output_type": "execute_result",
          "data": {
            "text/plain": [
              "array([[[128, 123, 120],\n",
              "        [128, 123, 120],\n",
              "        [129, 124, 121],\n",
              "        ...,\n",
              "        [122, 117, 113],\n",
              "        [121, 116, 110],\n",
              "        [121, 116, 110]],\n",
              "\n",
              "       [[128, 123, 120],\n",
              "        [129, 124, 121],\n",
              "        [130, 125, 122],\n",
              "        ...,\n",
              "        [122, 117, 113],\n",
              "        [122, 117, 111],\n",
              "        [122, 117, 111]],\n",
              "\n",
              "       [[129, 124, 121],\n",
              "        [130, 125, 122],\n",
              "        [131, 126, 123],\n",
              "        ...,\n",
              "        [123, 118, 114],\n",
              "        [123, 118, 112],\n",
              "        [123, 118, 112]],\n",
              "\n",
              "       ...,\n",
              "\n",
              "       [[142, 141, 137],\n",
              "        [143, 142, 138],\n",
              "        [145, 144, 140],\n",
              "        ...,\n",
              "        [151, 152, 147],\n",
              "        [151, 152, 147],\n",
              "        [151, 152, 147]],\n",
              "\n",
              "       [[142, 141, 137],\n",
              "        [142, 141, 137],\n",
              "        [144, 143, 139],\n",
              "        ...,\n",
              "        [150, 151, 146],\n",
              "        [150, 151, 146],\n",
              "        [150, 151, 146]],\n",
              "\n",
              "       [[141, 140, 136],\n",
              "        [142, 141, 137],\n",
              "        [143, 142, 138],\n",
              "        ...,\n",
              "        [149, 150, 145],\n",
              "        [149, 150, 145],\n",
              "        [149, 150, 145]]], dtype=uint8)"
            ],
            "text/html": [
              "<style>\n",
              "      .ndarray_repr .ndarray_raw_data {\n",
              "        display: none;\n",
              "      }\n",
              "      .ndarray_repr.show_array .ndarray_raw_data {\n",
              "        display: block;\n",
              "      }\n",
              "      .ndarray_repr.show_array .ndarray_image_preview {\n",
              "        display: none;\n",
              "      }\n",
              "      </style>\n",
              "      <div id=\"id-8967ee15-d262-467e-b92e-b1f9a2379b00\" class=\"ndarray_repr\"><pre>ndarray (183, 275, 3) <button style=\"padding: 0 2px;\">show data</button></pre><img src=\"data:image/png;base64,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\" class=\"ndarray_image_preview\" /><pre class=\"ndarray_raw_data\">array([[[128, 123, 120],\n",
              "        [128, 123, 120],\n",
              "        [129, 124, 121],\n",
              "        ...,\n",
              "        [122, 117, 113],\n",
              "        [121, 116, 110],\n",
              "        [121, 116, 110]],\n",
              "\n",
              "       [[128, 123, 120],\n",
              "        [129, 124, 121],\n",
              "        [130, 125, 122],\n",
              "        ...,\n",
              "        [122, 117, 113],\n",
              "        [122, 117, 111],\n",
              "        [122, 117, 111]],\n",
              "\n",
              "       [[129, 124, 121],\n",
              "        [130, 125, 122],\n",
              "        [131, 126, 123],\n",
              "        ...,\n",
              "        [123, 118, 114],\n",
              "        [123, 118, 112],\n",
              "        [123, 118, 112]],\n",
              "\n",
              "       ...,\n",
              "\n",
              "       [[142, 141, 137],\n",
              "        [143, 142, 138],\n",
              "        [145, 144, 140],\n",
              "        ...,\n",
              "        [151, 152, 147],\n",
              "        [151, 152, 147],\n",
              "        [151, 152, 147]],\n",
              "\n",
              "       [[142, 141, 137],\n",
              "        [142, 141, 137],\n",
              "        [144, 143, 139],\n",
              "        ...,\n",
              "        [150, 151, 146],\n",
              "        [150, 151, 146],\n",
              "        [150, 151, 146]],\n",
              "\n",
              "       [[141, 140, 136],\n",
              "        [142, 141, 137],\n",
              "        [143, 142, 138],\n",
              "        ...,\n",
              "        [149, 150, 145],\n",
              "        [149, 150, 145],\n",
              "        [149, 150, 145]]], dtype=uint8)</pre></div><script>\n",
              "      (() => {\n",
              "      const titles = ['show data', 'hide data'];\n",
              "      let index = 0\n",
              "      document.querySelector('#id-8967ee15-d262-467e-b92e-b1f9a2379b00 button').onclick = (e) => {\n",
              "        document.querySelector('#id-8967ee15-d262-467e-b92e-b1f9a2379b00').classList.toggle('show_array');\n",
              "        index = (++index) % 2;\n",
              "        document.querySelector('#id-8967ee15-d262-467e-b92e-b1f9a2379b00 button').textContent = titles[index];\n",
              "        e.preventDefault();\n",
              "        e.stopPropagation();\n",
              "      }\n",
              "      })();\n",
              "    </script>"
            ]
          },
          "metadata": {},
          "execution_count": 15
        }
      ],
      "source": [
        "imgpath='/content/drive/MyDrive/CNN Image Dataset/Face Expressions - Copy/Sad.jpeg'\n",
        "img=imread(imgpath)\n",
        "img"
      ]
    },
    {
      "cell_type": "code",
      "execution_count": null,
      "metadata": {
        "id": "ZXmdbV9x_4Ga"
      },
      "outputs": [],
      "source": [
        "img=resize(img,(150,150,1))"
      ]
    },
    {
      "cell_type": "code",
      "execution_count": null,
      "metadata": {
        "colab": {
          "base_uri": "https://localhost:8080/"
        },
        "id": "8nlaicqX_5o1",
        "outputId": "7d964320-4b6e-494c-b75f-9d941f028497"
      },
      "outputs": [
        {
          "output_type": "stream",
          "name": "stdout",
          "text": [
            "\u001b[1m1/1\u001b[0m \u001b[32m━━━━━━━━━━━━━━━━━━━━\u001b[0m\u001b[37m\u001b[0m \u001b[1m1s\u001b[0m 506ms/step\n"
          ]
        },
        {
          "output_type": "execute_result",
          "data": {
            "text/plain": [
              "array([[8.6643553e-08, 1.3330067e-08, 9.9999988e-01]], dtype=float32)"
            ]
          },
          "metadata": {},
          "execution_count": 17
        }
      ],
      "source": [
        "img=img.reshape(1,150,150,1)\n",
        "y_new=model.predict(img)\n",
        "y_new"
      ]
    },
    {
      "cell_type": "code",
      "execution_count": null,
      "metadata": {
        "colab": {
          "base_uri": "https://localhost:8080/"
        },
        "id": "kPL9kFUn_74Y",
        "outputId": "f1fc5cbc-1366-459c-f799-6580fadc544a"
      },
      "outputs": [
        {
          "output_type": "execute_result",
          "data": {
            "text/plain": [
              "array([2])"
            ]
          },
          "metadata": {},
          "execution_count": 18
        }
      ],
      "source": [
        "ind=y_new.argmax(axis=1)\n",
        "ind"
      ]
    },
    {
      "cell_type": "code",
      "execution_count": null,
      "metadata": {
        "colab": {
          "base_uri": "https://localhost:8080/"
        },
        "id": "z--GE85m_-7r",
        "outputId": "0c47abc4-0795-4408-d52d-6731e8556661"
      },
      "outputs": [
        {
          "output_type": "execute_result",
          "data": {
            "text/plain": [
              "'sad'"
            ],
            "application/vnd.google.colaboratory.intrinsic+json": {
              "type": "string"
            }
          },
          "metadata": {},
          "execution_count": 19
        }
      ],
      "source": [
        "Categories[ind.item()]"
      ]
    },
    {
      "cell_type": "code",
      "execution_count": null,
      "metadata": {
        "id": "0SNGfotpV2b9",
        "colab": {
          "base_uri": "https://localhost:8080/"
        },
        "outputId": "0b949f73-85fe-4287-8dc3-b65f31d994fd"
      },
      "outputs": [
        {
          "output_type": "stream",
          "name": "stderr",
          "text": [
            "WARNING:absl:You are saving your model as an HDF5 file via `model.save()` or `keras.saving.save_model(model)`. This file format is considered legacy. We recommend using instead the native Keras format, e.g. `model.save('my_model.keras')` or `keras.saving.save_model(model, 'my_model.keras')`. \n"
          ]
        }
      ],
      "source": [
        "model.save('Facial_Expression.h5')"
      ]
    }
  ],
  "metadata": {
    "accelerator": "GPU",
    "colab": {
      "gpuType": "T4",
      "provenance": []
    },
    "kernelspec": {
      "display_name": "Python 3",
      "name": "python3"
    },
    "language_info": {
      "name": "python"
    }
  },
  "nbformat": 4,
  "nbformat_minor": 0
}